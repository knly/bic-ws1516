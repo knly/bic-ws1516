{
 "cells": [
  {
   "cell_type": "markdown",
   "metadata": {},
   "source": [
    "Excercise 6.1\n",
    "======="
   ]
  },
  {
   "cell_type": "markdown",
   "metadata": {},
   "source": [
    "Poissson process with absolute refractoriness:\n",
    "\n",
    "\\begin{equation}\n",
    "    p^{\\text{ISI}}(T) = \\Theta(t-\\tau_{\\text{ref}}) \\nu \\exp{(-\\nu(t-\\tau_{\\text{ref}}))}\n",
    "\\end{equation}"
   ]
  },
  {
   "cell_type": "markdown",
   "metadata": {},
   "source": [
    "The power spectrum is given by:\n",
    "\n",
    "\\begin{equation}\n",
    "    P_T(\\omega) = \\nu_i \\Re{\\left\\{ \\frac{1 + \\tilde{p}^{\\text{ISI}}(\\omega)}{1 - \\tilde{p}^{\\text{ISI}}(\\omega)} \\right\\}} + 2\\pi\\nu^2\\delta(\\omega)\n",
    "\\end{equation}"
   ]
  },
  {
   "cell_type": "markdown",
   "metadata": {},
   "source": [
    "Let us start with calculating $\\tilde{p}^{\\text{ISI}}(\\omega)$:\n",
    "\n",
    "\\begin{align}\n",
    "    \\tilde{p}^{\\text{ISI}}(\\omega) &= \\nu \\int_0^\\infty \\Theta(t-\\tau_{\\text{ref}}) \\exp{(-\\nu(t-\\tau_{\\text{ref}}))} \\exp{(-i\\omega t)} dt \\\\\n",
    "    &= \\nu \\int_{\\tau_{\\text{ref}}}^\\infty \\exp{(-\\nu(t-\\tau_{\\text{ref}}))} \\exp{(-i\\omega t)} dt \\\\    \n",
    "    &= \\nu e^{\\nu\\tau_{\\text{ref}}} \\int_{\\tau_{\\text{ref}}}^\\infty \\exp{(-t(\\nu + i\\omega))} dt \\\\\n",
    "    &= - \\nu e^{\\nu\\tau_{\\text{ref}}} \\frac{1}{\\nu + i\\omega} \\exp{(-t(\\nu + i\\omega))} \\vert_{\\tau_{\\text{ref}}}^{\\infty} \\\\\n",
    "    &= \\frac{\\nu}{\\nu + i\\omega} e^{-i\\omega\\tau_{\\text{ref}}}\n",
    "\\end{align}"
   ]
  },
  {
   "cell_type": "markdown",
   "metadata": {},
   "source": [
    "With this we are able to calculate the power spectrum:\n",
    "\n",
    "\\begin{align}\n",
    "    P_T(\\omega) &= \\nu_i \\Re{\\left\\{ \\frac{1 + \\tilde{p}^{\\text{ISI}}(\\omega)}{1 - \\tilde{p}^{\\text{ISI}}(\\omega)} \\right\\}} + 2\\pi\\nu^2\\delta(\\omega) \\\\\n",
    "    &= \\nu_i \\Re{\\left\\{ \\frac{1 + \\frac{\\nu}{\\nu + i\\omega} e^{-i\\omega\\tau_{\\text{ref}}}}{1 - \\frac{\\nu}{\\nu + i\\omega} e^{-i\\omega\\tau_{\\text{ref}}}} \\right\\}} + 2\\pi\\nu^2\\delta(\\omega) \\\\\n",
    "    &= \\nu_i \\Re{\\left\\{ \\frac{\\nu + i\\omega + \\nu e^{-i\\omega\\tau_{\\text{ref}}}}{\\nu + i\\omega - \\nu e^{-i\\omega\\tau_{\\text{ref}}}} \\right\\}} + 2\\pi\\nu^2\\delta(\\omega)\n",
    "\\end{align}"
   ]
  },
  {
   "cell_type": "code",
   "execution_count": 1,
   "metadata": {
    "collapsed": true
   },
   "outputs": [],
   "source": [
    "%matplotlib inline\n",
    "import matplotlib\n",
    "matplotlib.rcParams['figure.figsize'] = (12.0, 6.0)\n",
    "import matplotlib.pyplot as plt\n",
    "from __future__ import division\n",
    "import numpy as np"
   ]
  },
  {
   "cell_type": "code",
   "execution_count": 2,
   "metadata": {
    "collapsed": true
   },
   "outputs": [
    {
     "name": "stderr",
     "output_type": "stream",
     "text": [
      "/Users/knl/.virtualenvs/bic/lib/python2.7/site-packages/ipykernel/__main__.py:9: RuntimeWarning: divide by zero encountered in cdouble_scalars\n",
      "/Users/knl/.virtualenvs/bic/lib/python2.7/site-packages/ipykernel/__main__.py:9: RuntimeWarning: invalid value encountered in cdouble_scalars\n"
     ]
    }
   ],
   "source": [
    "delta = lambda x: 10000 if x == 0 else 0 # simplified delta function\n",
    "omega = np.linspace(-50,50,4401) # generate time vector\n",
    "power_pois = []\n",
    "power_refrac = []\n",
    "nu = 1000\n",
    "tau = 5\n",
    "for i in range(0,len(omega)):\n",
    "    power = nu + 2*np.pi*nu**2 * delta(omega[i])\n",
    "    power_ref = nu*np.real((nu + 1j*omega[i] + nu*np.exp(-1j*omega[i]*tau))/(nu + 1j*omega[i] - nu*np.exp(-1j*omega[i]*tau))) + 2*np.pi*nu**2*delta(omega[i])\n",
    "    power_pois.append(power)\n",
    "    power_refrac.append(power_ref)"
   ]
  },
  {
   "cell_type": "code",
   "execution_count": 3,
   "metadata": {
    "collapsed": false
   },
   "outputs": [
    {
     "data": {
      "text/plain": [
       "<matplotlib.text.Text at 0x105ec0710>"
      ]
     },
     "execution_count": 3,
     "metadata": {},
     "output_type": "execute_result"
    },
    {
     "data": {
      "image/png": "[encoded data removed]",
      "text/plain": [
       "<matplotlib.figure.Figure at 0x105dc6810>"
      ]
     },
     "metadata": {},
     "output_type": "display_data"
    }
   ],
   "source": [
    "plt.plot(omega,power_pois,label='Poisson')\n",
    "plt.plot(omega,power_refrac,label='Poisson with refractory period')\n",
    "plt.ylim([-1,10000])\n",
    "plt.legend()\n",
    "plt.xlabel('Frequency $\\omega$')\n",
    "plt.ylabel('Power $P_T(\\omega)$')"
   ]
  },
  {
   "cell_type": "markdown",
   "metadata": {},
   "source": [
    "We observe that the Poisson process with refractory period shows a much better signal-to-noise ratio in the regime of small frequencies. However there are regions where the ratio is much larger than the one of a pure Poisson process. Because of this the answer to the question which process to use for transmitting a low frequency signal depends on the exact frequency regime."
   ]
  }
 ],
 "metadata": {
  "kernelspec": {
   "display_name": "Python 2",
   "language": "python",
   "name": "python2"
  },
  "language_info": {
   "codemirror_mode": {
    "name": "ipython",
    "version": 2
   },
   "file_extension": ".py",
   "mimetype": "text/x-python",
   "name": "python",
   "nbconvert_exporter": "python",
   "pygments_lexer": "ipython2",
   "version": "2.7.10"
  }
 },
 "nbformat": 4,
 "nbformat_minor": 0
}
