{
 "cells": [
  {
   "cell_type": "markdown",
   "metadata": {},
   "source": [
    "Excercise 3: The AdEx model\n",
    "-------------------------------"
   ]
  },
  {
   "cell_type": "markdown",
   "metadata": {},
   "source": [
    "a)\n",
    "The ExLIF model is given by:\n",
    "\\begin{equation}\n",
    "    C_m \\frac{du}{dt} = g_l (E_l - u) + g_l\\Delta_T \\exp{\\left(\\frac{u-\\theta_{rh}}{\\Delta_T}\\right)} + I\n",
    "\\end{equation}\n",
    "In the limit $\\Delta_T \\rightarrow 0$ we only have to consider the second term:\n",
    "For $u-\\theta_{rh}\\leq0$:\n",
    "\\begin{equation}\n",
    "    \\lim_{\\Delta_T\\rightarrow 0} \\Delta_T \\exp{\\left(\\frac{u-\\theta_{rh}}{\\Delta_T}\\right)} = 0\n",
    "\\end{equation}\n",
    "where we used de l'Hopital.\n",
    "For $u-\\theta_{rh}>0$:\n",
    "\\begin{equation}\n",
    "    \\lim_{\\Delta_T\\rightarrow 0} \\Delta_T \\exp{\\left(\\frac{u-\\theta_{rh}}{\\Delta_T}\\right)} = \\infty\n",
    "\\end{equation}\n",
    "This can be interpreted as follows: The LIF neuron model is well defined for membrane potentials smaller or equal to the threshold. As soon as the threshold is reached the membrane potential has to be reset. This behavior is what we can observe from the limit of the ExLIF diffenrential equation being well defined for potentials smaller than the threshold, while there is a spike if the membrane potential exceeds the threshold."
   ]
  },
  {
   "cell_type": "markdown",
   "metadata": {
    "collapsed": true
   },
   "source": [
    "b)\n",
    "The ExLIF model is given by with $u_0>\\theta_{rh}$, we look at the first time step:\n",
    "\\begin{equation}\n",
    "    C_m/g_l \\frac{du}{dt} = (E_l - u_0) +\\Delta_T \\exp{\\left(\\frac{u_0-\\theta_{rh}}{\\Delta_T}\\right)}\n",
    "\\end{equation}\n",
    "\n",
    "For $u_0-\\theta_{rh}=\\epsilon \\ll \\Delta_T$ we can Taylor expand the exponential and neglect higher orders\n",
    "\\begin{equation}\n",
    "    C_m/g_l \\frac{du}{dt} = (E_l - u_0) +\\Delta_T + \\epsilon\n",
    "\\end{equation}\n",
    "Since there are no constraints on the constants $\\theta_{rh}, \\Delta_T, u_0, E_l$ we can choose this situation. Furthermore, we can choose $E_l$ small enough, s.t. the modulus of $E_l-u_0$ is large enough (the difference itself is negative for all membrane potentials exceeding the threshold, otherwise the rest potential would be larger than the threshold). From this follows that the time derivative is negative, i.e. the membrane potential decreases and does not reach infinity. We also tested this for example values (with Mathematica, sorry for that):\n",
    "\n",
    "\n",
    "    thresh = -10 ;\n",
    "    u0 = -5;\n",
    "    deltaT = 100;\n",
    "    eL = -200;\n",
    "    NDSolve[{u'[t] == (eL - u[t]) + deltaT  Exp[(u[t] - thresh)/deltaT], u[0] == u0}, u, {t, 0, 2}]\n",
    "    Plot[Evaluate[u[t] /. %], {t, 0, 2}]\n",
    "\n",
    "Indeed, this simulation shows a shrinking membrane potential, not a rising one."
   ]
  }
 ],
 "metadata": {
  "kernelspec": {
   "display_name": "Python 2",
   "language": "python",
   "name": "python2"
  },
  "language_info": {
   "codemirror_mode": {
    "name": "ipython",
    "version": 2
   },
   "file_extension": ".py",
   "mimetype": "text/x-python",
   "name": "python",
   "nbconvert_exporter": "python",
   "pygments_lexer": "ipython2",
   "version": "2.7.10"
  }
 },
 "nbformat": 4,
 "nbformat_minor": 0
}
