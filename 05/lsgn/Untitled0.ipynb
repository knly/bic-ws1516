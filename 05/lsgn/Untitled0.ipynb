{
 "cells": [
  {
   "cell_type": "markdown",
   "metadata": {},
   "source": [
    "Excercise Sheet 5\n",
    "================"
   ]
  },
  {
   "cell_type": "markdown",
   "metadata": {},
   "source": [
    "Excercise 1: Generation of Poisson spike trains\n",
    "----------------------------------------------------"
   ]
  },
  {
   "cell_type": "markdown",
   "metadata": {},
   "source": [
    "In the lecture we defined the rate of the stochastic process as the ratio of the number of spikes during a time intervall and this intervall:\n",
    "\\begin{equation}\n",
    "    \\nu = \\frac{N_\\textrm{Spikes, T}}{\\Delta T}\n",
    "\\end{equation}\n",
    "If $\\langle T\\rangle$ is the average ISI, then the number of spikes during a time $T$ is:\n",
    "\\begin{equation}\n",
    "N_\\text{Spikes, T} = \\frac{\\Delta T}{\\langle T \\rangle}\n",
    "\\end{equation}\n",
    "Resulting in\n",
    "\\begin{equation}\n",
    "\\nu = \\frac{1}{\\langle T \\rangle}\n",
    "\\end{equation}"
   ]
  },
  {
   "cell_type": "markdown",
   "metadata": {},
   "source": [
    "The expectation value is given by:\n",
    "\\begin{align}\n",
    "    E[N]    &= \\sum_{k=0}^\\infty N \\frac{(\\lambda t)^N}{N!}e^{-\\lambda t} \\\\\n",
    "            &= \\lambda t e^{-\\lambda t} \\sum_{k=0}^\\infty \\frac{(\\lambda t)^{N-1}}{(N-1)!} \\\\\n",
    "            &= \\lambda t e^{-\\lambda t} e^{\\lambda t} \\\\\n",
    "            &= \\lambda t\n",
    "\\end{align}\n",
    "The variance could be calculated by using:\n",
    "\\begin{equation}\n",
    "    Var[N] = E[N^2] - (E[N])^2\n",
    "\\end{equation}\n",
    "Evalutating the first terme leads:\n",
    "\\begin{align}\n",
    "    E[N^2]  &= \\sum_{k=0}^\\infty N^2 \\frac{(\\lambda t)^N}{N!}e^{-\\lambda t} \\\\\n",
    "            &= \\lambda t e^{-\\lambda t} \\sum_{k=0}^\\infty N \\frac{(\\lambda t)^{N-1}}{(N-1)!} \\\\\n",
    "            &= \\lambda t e^{-\\lambda t} \\sum_{k=0}^\\infty (N+1) \\frac{(\\lambda t)^N}{N!} \\\\\n",
    "            &= \\lambda t e^{-\\lambda t} \\sum_{k=0}^\\infty \\left[N \\frac{(\\lambda t)^N}{N!} + \\frac{(\\lambda t)^N}{N!}\\right] \\\\\n",
    "            &= \\lambda t e^{-\\lambda t} \\left[\\lambda t e^{\\lambda t} + e^{\\lambda t}\\right] \\\\\n",
    "            &= (\\lambda t)^2 + \\lambda t\n",
    "\\end{align}\n",
    "Putting things together:\n",
    "\\begin{equation}\n",
    "    Var[N] = (\\lambda t)^2 + \\lambda t - (\\lambda t)^2 = \\lambda t\n",
    "\\end{equation}"
   ]
  },
  {
   "cell_type": "code",
   "execution_count": 26,
   "metadata": {
    "collapsed": false
   },
   "outputs": [],
   "source": [
    "import matplotlib\n",
    "import numpy as np\n",
    "import matplotlib.pyplot as plt\n",
    "import numpy.random as npr\n",
    "%matplotlib inline\n",
    "from scipy.stats import poisson, uniform\n",
    "from scipy.optimize import curve_fit\n",
    "from scipy.misc import factorial"
   ]
  },
  {
   "cell_type": "code",
   "execution_count": 18,
   "metadata": {
    "collapsed": false
   },
   "outputs": [],
   "source": [
    "def poisson(k, A, lamb):\n",
    "    return A*(lamb**k/factorial(k)) * np.exp(-lamb)"
   ]
  },
  {
   "cell_type": "code",
   "execution_count": 25,
   "metadata": {
    "collapsed": false
   },
   "outputs": [
    {
     "name": "stdout",
     "output_type": "stream",
     "text": [
      "[ 1.  1.]\n"
     ]
    },
    {
     "data": {
      "image/png": "[encoded data removed]",
      "text/plain": [
       "<matplotlib.figure.Figure at 0x1ad15668>"
      ]
     },
     "metadata": {},
     "output_type": "display_data"
    },
    {
     "data": {
      "image/png": "[encoded data removed]",
      "text/plain": [
       "<matplotlib.figure.Figure at 0x15a1c7b8>"
      ]
     },
     "metadata": {},
     "output_type": "display_data"
    }
   ],
   "source": [
    "T = 1000\n",
    "dt = 0.001\n",
    "lam = 1\n",
    "\n",
    "t = np.arange(0,T,dt)\n",
    "\n",
    "p = npr.rand(len(t))\n",
    "\n",
    "spike_train = t[p < lam*dt]\n",
    "\n",
    "plt.figure()\n",
    "for t_spike in spike_train:\n",
    "    plt.axvline(t_spike)\n",
    "\n",
    "data = np.diff(spike_train)/dt\n",
    "\n",
    "plt.figure()\n",
    "# the bins should be of integer width, because poisson is an integer distribution\n",
    "entries, bin_edges, patches = plt.hist(data, bins=50, normed=True)\n",
    "\n",
    "# calculate binmiddles\n",
    "bin_middles = 0.5*(bin_edges[1:] + bin_edges[:-1])\n",
    "\n",
    "# fit with curve_fit\n",
    "parameters, cov_matrix = curve_fit(poisson, bin_middles, entries) \n",
    "# plot poisson-deviation with fitted parameter\n",
    "#x_plot = np.linspace(1, 8000, 8000)\n",
    "#plt.plot(x_plot, poisson(x_plot, 10), 'r-', lw=2)\n",
    "print parameters"
   ]
  },
  {
   "cell_type": "code",
   "execution_count": 28,
   "metadata": {
    "collapsed": false
   },
   "outputs": [
    {
     "data": {
      "text/plain": [
       "[<matplotlib.lines.Line2D at 0xb94c8160>]"
      ]
     },
     "execution_count": 28,
     "metadata": {},
     "output_type": "execute_result"
    },
    {
     "data": {
      "image/png": "[encoded data removed]",
      "text/plain": [
       "<matplotlib.figure.Figure at 0x1928d400>"
      ]
     },
     "metadata": {},
     "output_type": "display_data"
    }
   ],
   "source": [
    "x = np.linspace(0,1,100)\n",
    "plt.plot(x,uniform.cdf(x))"
   ]
  },
  {
   "cell_type": "code",
   "execution_count": null,
   "metadata": {
    "collapsed": true
   },
   "outputs": [],
   "source": []
  },
  {
   "cell_type": "markdown",
   "metadata": {
    "collapsed": false
   },
   "source": [
    "Excercise 2: High conductance state\n",
    "----------------------------------------------------"
   ]
  },
  {
   "cell_type": "markdown",
   "metadata": {},
   "source": [
    "Given the expression for a CUBA LIF neuron:\n",
    "\\begin{align}\n",
    "\tu(t) &= E_l + \\frac{I^{\\text{ext}}}{g_l} + \\sum_{\\text{syn }k} \\sum_{\\text{spk }s} \\frac{\\tau_k^{\\text{syn}}w_k}{g_l(\\tau_k^{\\text{syn}} - \\tau_m)} \\Theta(t-t_s) \\left[\\exp{\\left(-\\frac{t-t_s}{\\tau_k^{\\text{syn}}}\\right)} - \\exp{\\left(-\\frac{t-t_s}{\\tau_m}\\right)}\\right]\n",
    "\\end{align}\n",
    "We perform the following replacements:\n",
    "\\begin{align}\n",
    "\tg_l &\\rightarrow \\langle g^{\\text{tot}} \\rangle \\\\\n",
    "\t\\tau_m &\\rightarrow \\langle \\tau_{\\text{eff}} \\rangle \\\\\n",
    "\tw_k &\\rightarrow w_k(E_k^{\\text{rev}}-\\langle u_{\\text{eff}}\\rangle)\n",
    "\\end{align}\n",
    "We get for the shape of a single PSP:\n",
    "\\begin{equation}\n",
    "\t\\text{PSP}(t) = \\frac{ \\tau_k^{\\text{syn}} w_k (E_k^{\\text{rev}} - \\langle u_{\\text{eff}} \\rangle)}{\\langle g^{\\text{tot}} \\rangle (\\tau_k^{\\text{syn}} - \\langle \\tau_{\\text{eff}}\\rangle)} \\Theta(t-t_s) \\left[ \\exp{\\left(-\\frac{t-t_s}{\\tau_k^{\\text{syn}}}\\right)} - \\exp{\\left(-\\frac{t-t_s}{\\langle \\tau_{\\text{eff}} \\rangle}\\right)}\\right]\n",
    "\\end{equation}\n",
    "In order to obtain a closed-form solution for $\\langle u_{\\text{eff}}\\rangle$ we consider the mean value of the total conductance. For exponential synapses the interaction kernel is given by:\n",
    "\\begin{equation}\n",
    "\t\\kappa(t) = w_k \\Theta(t) \\exp{\\left(-\\frac{t}{\\tau_k^{\\text{syn}}}\\right)}\n",
    "\\end{equation}\n",
    "With the equations for the first moment of an additive Poisson process we get:\n",
    "\\begin{align}\n",
    "\tE[g^{\\text{tot}}]  &= \\sum_{k=1}^n \\nu_k \\int_0^\\infty w_k \\Theta(t) \\exp{\\left(-\\frac{t}{\\tau_k^{\\text{syn}}}\\right)}dt \\\\\n",
    "                        &= \\sum_{k=1}^n w_k \\nu_k \\tau_k^{\\text{syn}}\n",
    "\\end{align}\n",
    "Now we are able to derive an expression for $\\langle u_{\\text{eff}} \\rangle$:\n",
    "\\begin{equation}\n",
    "\tE[u_{\\text{eff}}] =  \\frac{g_lE_l + I^{\\text{ext}} + \\sum_k w_k\\nu_k\\tau_k^{\\text{syn}}E_k^{\\text{rev}}}{g_l + \\sum_k w_k\\nu_k\\tau_k^{\\text{syn}}}\n",
    "\\end{equation}\n",
    "The membrane potential time course of a COBA LIF neuron is given by:\n",
    "\\begin{equation}\n",
    "\tu(t) = u_{\\text{eff}}^0 + \\sum_{\\text{syn }k} \\sum_{\\text{spk }s} \\frac{ \\tau_k^{\\text{syn}} w_k (E_k^{\\text{rev}} - \\langle u_{\\text{eff}} \\rangle)}{\\langle g^{\\text{tot}} \\rangle (\\tau_k^{\\text{syn}} - \\langle \\tau_{\\text{eff}}\\rangle)} \\Theta(t-t_s) \\left[ \\exp{\\left(-\\frac{t-t_s}{\\tau_k^{\\text{syn}}}\\right)} - \\exp{\\left(-\\frac{t-t_s}{\\langle \\tau_{\\text{eff}} \\rangle}\\right)}\\right]\n",
    "\\end{equation}\n",
    "with:\n",
    "\\begin{equation}\n",
    "    u_{\\text{eff}}^0 = \\frac{g_l}{g^{\\text{tot}}}\\left(\\langle u_{\\text{eff}}\\rangle - E_l - \\frac{I^{\\text{ext}}}{g_l}\\right)\n",
    "\\end{equation}"
   ]
  },
  {
   "cell_type": "markdown",
   "metadata": {},
   "source": [
    "Excercise 3: The AdEx model\n",
    "-------------------------------"
   ]
  },
  {
   "cell_type": "markdown",
   "metadata": {},
   "source": [
    "The ExLIF model is given by:\n",
    "\\begin{equation}\n",
    "    C_m \\frac{du}{dt} = g_l (E_l - u) + g_l\\Delta_T \\exp{\\left(\\frac{u-\\theta_{rh}}{\\Delta_T}\\right)} + I\n",
    "\\end{equation}\n",
    "In the limit $\\Delta_T \\rightarrow 0$ we only have to consider the second term:\n",
    "For $u-\\theta_{rh}\\leq0$:\n",
    "\\begin{equation}\n",
    "    \\lim_{\\Delta_T\\rightarrow 0} \\Delta_T \\exp{\\left(\\frac{u-\\theta_{rh}}{\\Delta_T}\\right)} = 0\n",
    "\\end{equation}\n",
    "where we used de l'Hopital.\n",
    "For $u-\\theta_{rh}>0$:\n",
    "\\begin{equation}\n",
    "    \\lim_{\\Delta_T\\rightarrow 0} \\Delta_T \\exp{\\left(\\frac{u-\\theta_{rh}}{\\Delta_T}\\right)} = \\infty\n",
    "\\end{equation}\n",
    "This can be interpreted as follows: The LIF neuron model is well defined for membrane potentials smaller or equal to the threshold. As soon as the threshold is reached the membrane potential has to be reset. This behavior is what we can observe from the limit of the ExLIF diffenrential equation being well defined for potentials smaller than the threshold, while there is a spike if the membrane potential exceeds the threshold."
   ]
  },
  {
   "cell_type": "markdown",
   "metadata": {
    "collapsed": true
   },
   "source": [
    "The ExLIF model is given by with $u_0>\\theta_{rh}$, we look at the first time step:\n",
    "\\begin{equation}\n",
    "    C_m/g_l \\frac{du}{dt} = (E_l - u_0) +\\Delta_T \\exp{\\left(\\frac{u_0-\\theta_{rh}}{\\Delta_T}\\right)}\n",
    "\\end{equation}\n",
    "\n",
    "For $u_0-\\theta_{rh}=\\epsilon \\ll \\Delta_T$ we can Taylor expand the exponential and neglect higher orders\n",
    "\\begin{equation}\n",
    "    C_m/g_l \\frac{du}{dt} = (E_l - u_0) +\\Delta_T + \\epsilon\n",
    "\\end{equation}"
   ]
  },
  {
   "cell_type": "code",
   "execution_count": null,
   "metadata": {
    "collapsed": true
   },
   "outputs": [],
   "source": []
  }
 ],
 "metadata": {
  "kernelspec": {
   "display_name": "Python 2",
   "language": "python",
   "name": "python2"
  },
  "language_info": {
   "codemirror_mode": {
    "name": "ipython",
    "version": 2
   },
   "file_extension": ".py",
   "mimetype": "text/x-python",
   "name": "python",
   "nbconvert_exporter": "python",
   "pygments_lexer": "ipython2",
   "version": "2.7.8"
  }
 },
 "nbformat": 4,
 "nbformat_minor": 0
}
