{
 "cells": [
  {
   "cell_type": "markdown",
   "metadata": {},
   "source": [
    "Excercise Sheet 5\n",
    "================"
   ]
  },
  {
   "cell_type": "markdown",
   "metadata": {},
   "source": [
    "Excercise 1: Generation of Poisson spike trains\n",
    "----------------------------------------------------"
   ]
  },
  {
   "cell_type": "markdown",
   "metadata": {},
   "source": [
    "In the lecture we defined the rate of the stochastic process as the ratio of the number of spikes during a time intervall and this intervall:\n",
    "\\begin{equation}\n",
    "    \\nu = \\frac{N_\\textrm{Spikes, T}}{\\Delta T}\n",
    "\\end{equation}\n",
    "If $\\langle T\\rangle$ is the average ISI, then the number of spikes during a time $T$ is:\n",
    "\\begin{equation}\n",
    "N_\\text{Spikes, T} = \\frac{\\Delta T}{\\langle T \\rangle}\n",
    "\\end{equation}\n",
    "Resulting in\n",
    "\\begin{equation}\n",
    "\\nu = \\frac{1}{\\langle T \\rangle}\n",
    "\\end{equation}"
   ]
  },
  {
   "cell_type": "markdown",
   "metadata": {},
   "source": [
    "The expectation value is given by:\n",
    "\\begin{align}\n",
    "    E[N]    &= \\sum_{k=0}^\\infty N \\frac{(\\lambda t)^N}{N!}e^{-\\lambda t} \\\\\n",
    "            &= \\lambda t e^{-\\lambda t} \\sum_{k=0}^\\infty \\frac{(\\lambda t)^{N-1}}{(N-1)!} \\\\\n",
    "            &= \\lambda t e^{-\\lambda t} e^{\\lambda t} \\\\\n",
    "            &= \\lambda t\n",
    "\\end{align}\n",
    "The variance could be calculated by using:\n",
    "\\begin{equation}\n",
    "    Var[N] = E[N^2] - (E[N])^2\n",
    "\\end{equation}\n",
    "Evalutating the first terme leads:\n",
    "\\begin{align}\n",
    "    E[N^2]  &= \\sum_{k=0}^\\infty N^2 \\frac{(\\lambda t)^N}{N!}e^{-\\lambda t} \\\\\n",
    "            &= \\lambda t e^{-\\lambda t} \\sum_{k=0}^\\infty N \\frac{(\\lambda t)^{N-1}}{(N-1)!} \\\\\n",
    "            &= \\lambda t e^{-\\lambda t} \\sum_{k=0}^\\infty (N+1) \\frac{(\\lambda t)^N}{N!} \\\\\n",
    "            &= \\lambda t e^{-\\lambda t} \\sum_{k=0}^\\infty \\left[N \\frac{(\\lambda t)^N}{N!} + \\frac{(\\lambda t)^N}{N!}\\right] \\\\\n",
    "            &= \\lambda t e^{-\\lambda t} \\left[\\lambda t e^{\\lambda t} + e^{\\lambda t}\\right] \\\\\n",
    "            &= (\\lambda t)^2 + \\lambda t\n",
    "\\end{align}\n",
    "Putting things together:\n",
    "\\begin{equation}\n",
    "    Var[N] = (\\lambda t)^2 + \\lambda t - (\\lambda t)^2 = \\lambda t\n",
    "\\end{equation}"
   ]
  },
  {
   "cell_type": "code",
   "execution_count": 1,
   "metadata": {
    "collapsed": false
   },
   "outputs": [],
   "source": [
    "import matplotlib\n",
    "import numpy as np\n",
    "import matplotlib.pyplot as plt\n",
    "import numpy.random as npr\n",
    "%matplotlib inline\n",
    "from scipy.stats import poisson, uniform\n",
    "from scipy.optimize import curve_fit\n",
    "from scipy.misc import factorial"
   ]
  },
  {
   "cell_type": "code",
   "execution_count": 14,
   "metadata": {
    "collapsed": false
   },
   "outputs": [],
   "source": [
    "def poisson(k, A,lamb):\n",
    "    return A*(lamb**k/factorial(k)) * np.exp(-lamb)"
   ]
  },
  {
   "cell_type": "code",
   "execution_count": 41,
   "metadata": {
    "collapsed": false
   },
   "outputs": [
    {
     "data": {
      "text/plain": [
       "[<matplotlib.lines.Line2D at 0x49b6b5c0>]"
      ]
     },
     "execution_count": 41,
     "metadata": {},
     "output_type": "execute_result"
    },
    {
     "data": {
      "image/png": "[encoded data removed]",
      "text/plain": [
       "<matplotlib.figure.Figure at 0x45a2d438>"
      ]
     },
     "metadata": {},
     "output_type": "display_data"
    },
    {
     "data": {
      "image/png": "[encoded data removed]",
      "text/plain": [
       "<matplotlib.figure.Figure at 0x4a5c2cc0>"
      ]
     },
     "metadata": {},
     "output_type": "display_data"
    },
    {
     "data": {
      "image/png": "[encoded data removed]",
      "text/plain": [
       "<matplotlib.figure.Figure at 0x49b5cc18>"
      ]
     },
     "metadata": {},
     "output_type": "display_data"
    }
   ],
   "source": [
    "T = 1000\n",
    "dt = 0.001\n",
    "lam = 1\n",
    "\n",
    "t = np.arange(0,T,dt)\n",
    "\n",
    "p = npr.rand(len(t))\n",
    "\n",
    "spike_train = t[p < lam*dt]\n",
    "\n",
    "plt.figure()\n",
    "for t_spike in spike_train:\n",
    "    plt.axvline(t_spike) # plot spike times as vertical lines\n",
    "plt.title('event times')\n",
    "plt.xlabel('time')\n",
    "plt.ylabel('count')\n",
    "    \n",
    "N = np.arange(1,len(spike_train)+1,1) # generate vector containing number of spikes\n",
    "\n",
    "plt.figure()\n",
    "plt.plot(spike_train,N) # plot number of spikes after given time\n",
    "plt.title('Path')\n",
    "plt.xlabel('time')\n",
    "plt.ylabel('# of counts')\n",
    "\n",
    "data = np.diff(spike_train)\n",
    "\n",
    "plt.figure()\n",
    "plt.title('ISI distribution')\n",
    "plt.ylabel('norm. # of counts')\n",
    "# the bins should be of integer width, because poisson is an integer distribution\n",
    "entries, bin_edges, patches = plt.hist(data, bins=50, normed=True)\n",
    "# calculate binmiddles\n",
    "bin_middles = 0.5*(bin_edges[1:] + bin_edges[:-1])\n",
    "# fit with curve_fit\n",
    "parameters, cov_matrix = curve_fit(poisson, np.around(bin_middles), entries)\n",
    "# plot poisson-deviation with fitted parameter\n",
    "x_plot = np.linspace(0,10, 100)\n",
    "plt.plot(x_plot, poisson(x_plot, *parameters), 'r-', lw=2)"
   ]
  },
  {
   "cell_type": "markdown",
   "metadata": {
    "collapsed": false
   },
   "source": [
    "The resulting path is given by a linear increase of the number of counts with time. This confirms the results that the expected number of counts is proportinal to $\\lambda T$."
   ]
  },
  {
   "cell_type": "markdown",
   "metadata": {
    "collapsed": false
   },
   "source": [
    "If the rate $\\lambda$ gets to high, the approximation is violated and the result (compare fit parameters) are less accurate. If the time step $dt$ gets to large the assumptation that at most one spike will fall into each bin fails."
   ]
  }
 ],
 "metadata": {
  "kernelspec": {
   "display_name": "Python 2",
   "language": "python",
   "name": "python2"
  },
  "language_info": {
   "codemirror_mode": {
    "name": "ipython",
    "version": 2
   },
   "file_extension": ".py",
   "mimetype": "text/x-python",
   "name": "python",
   "nbconvert_exporter": "python",
   "pygments_lexer": "ipython2",
   "version": "2.7.10"
  }
 },
 "nbformat": 4,
 "nbformat_minor": 0
}
