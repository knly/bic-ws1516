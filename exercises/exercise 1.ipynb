{
 "cells": [
  {
   "cell_type": "code",
   "execution_count": 37,
   "metadata": {
    "collapsed": false
   },
   "outputs": [],
   "source": [
    "%matplotlib inline\n",
    "import pyNN.nest as sim\n",
    "import numpy as np\n",
    "import matplotlib.pyplot as plt"
   ]
  },
  {
   "cell_type": "code",
   "execution_count": 12,
   "metadata": {
    "collapsed": true
   },
   "outputs": [],
   "source": [
    "def two_neuron_example(\n",
    "        current=3.0,\n",
    "        time_simulation=2000.,\n",
    "        weight=0.4,\n",
    "        neuron_parameters={\n",
    "            'v_rest'     : -65.0,\n",
    "            'cm'         : 0.1,\n",
    "            'tau_m'      : 1.0,\n",
    "            'tau_refrac' : 2.0,\n",
    "            'tau_syn_E'  : 10.0,\n",
    "            'tau_syn_I'  : 10.0,\n",
    "            'i_offset'   : 0.0,\n",
    "            'v_reset'    : -65.0,\n",
    "            'v_thresh'   : -50.0,\n",
    "        },\n",
    "    ):\n",
    "    \"\"\"\n",
    "        Connects to neurons with corresponding parameters.\n",
    "\n",
    "        The first is stimulated via current injection while the second receives\n",
    "        the other one's spikes.\n",
    "    \"\"\"\n",
    "\n",
    "    sim.setup(timestep=0.1, min_delay=0.1)\n",
    "\n",
    "    pulse = sim.DCSource(amplitude=current, start=0.0, stop=time_simulation)\n",
    "\n",
    "    pre = sim.Population(1, sim.IF_curr_exp(**neuron_parameters))\n",
    "    post = sim.Population(1, sim.IF_curr_exp(**neuron_parameters))\n",
    "\n",
    "    pre.record('spikes')\n",
    "    post.record('spikes')\n",
    "\n",
    "    sim.Projection(pre, post, connector=sim.OneToOneConnector(),\n",
    "            synapse_type=sim.StaticSynapse(weight=weight),\n",
    "            receptor_type='excitatory')\n",
    "\n",
    "    pulse.inject_into(pre)\n",
    "\n",
    "    sim.run(time_simulation)\n",
    "\n",
    "    # rates in Hz\n",
    "    rate_pre = len(pre.get_data('spikes').segments[0].spiketrains[0])\\\n",
    "            / time_simulation * 1000.\n",
    "\n",
    "    rate_post = len(post.get_data('spikes').segments[0].spiketrains[0])\\\n",
    "            / time_simulation * 1000.\n",
    "\n",
    "    sim.end()\n",
    "\n",
    "    return rate_pre, rate_post"
   ]
  },
  {
   "cell_type": "code",
   "execution_count": 14,
   "metadata": {
    "collapsed": false
   },
   "outputs": [
    {
     "name": "stdout",
     "output_type": "stream",
     "text": [
      "Rate (pre-synaptic neuron): 366.5 Hz\n",
      "Rate (post-synaptic neuron): 119.5 Hz\n"
     ]
    }
   ],
   "source": [
    "rate_pre, rate_post = two_neuron_example(current=2.9)\n",
    "\n",
    "print \"Rate (pre-synaptic neuron): {:.1f} Hz\".format(rate_pre)\n",
    "print \"Rate (post-synaptic neuron): {:.1f} Hz\".format(rate_post)"
   ]
  },
  {
   "cell_type": "markdown",
   "metadata": {
    "collapsed": true
   },
   "source": [
    "# Plots"
   ]
  },
  {
   "cell_type": "code",
   "execution_count": 40,
   "metadata": {
    "collapsed": false
   },
   "outputs": [],
   "source": [
    "input_currents = np.arange(0,8,0.2)\n",
    "output_rates = np.array([two_neuron_example(current=input_current) for input_current in input_currents])"
   ]
  },
  {
   "cell_type": "code",
   "execution_count": 41,
   "metadata": {
    "collapsed": false
   },
   "outputs": [
    {
     "data": {
      "text/plain": [
       "<matplotlib.collections.PathCollection at 0x113ece410>"
      ]
     },
     "execution_count": 41,
     "metadata": {},
     "output_type": "execute_result"
    },
    {
     "data": {
      "image/png": "[encoded data removed]",
      "text/plain": [
       "<matplotlib.figure.Figure at 0x113e48950>"
      ]
     },
     "metadata": {},
     "output_type": "display_data"
    }
   ],
   "source": [
    "plt.cla()\n",
    "plt.scatter(input_currents, output_rates[:,0])"
   ]
  },
  {
   "cell_type": "code",
   "execution_count": 42,
   "metadata": {
    "collapsed": false
   },
   "outputs": [
    {
     "data": {
      "text/plain": [
       "<matplotlib.collections.PathCollection at 0x113f813d0>"
      ]
     },
     "execution_count": 42,
     "metadata": {},
     "output_type": "execute_result"
    },
    {
     "data": {
      "image/png": "[encoded data removed]",
      "text/plain": [
       "<matplotlib.figure.Figure at 0x113ee9fd0>"
      ]
     },
     "metadata": {},
     "output_type": "display_data"
    }
   ],
   "source": [
    "plt.scatter(output_rates[:,0], output_rates[:,1])"
   ]
  },
  {
   "cell_type": "code",
   "execution_count": null,
   "metadata": {
    "collapsed": true
   },
   "outputs": [],
   "source": []
  }
 ],
 "metadata": {
  "kernelspec": {
   "display_name": "Python 2",
   "language": "python",
   "name": "python2"
  },
  "language_info": {
   "codemirror_mode": {
    "name": "ipython",
    "version": 2
   },
   "file_extension": ".py",
   "mimetype": "text/x-python",
   "name": "python",
   "nbconvert_exporter": "python",
   "pygments_lexer": "ipython2",
   "version": "2.7.10"
  }
 },
 "nbformat": 4,
 "nbformat_minor": 0
}
