{
 "cells": [
  {
   "cell_type": "markdown",
   "metadata": {},
   "source": [
    "# Exercise Sheet 4"
   ]
  },
  {
   "cell_type": "code",
   "execution_count": 1,
   "metadata": {
    "collapsed": false
   },
   "outputs": [
    {
     "name": "stdout",
     "output_type": "stream",
     "text": [
      "CSAConnector: libneurosim support not available in NEST.\n",
      "Falling back on PyNN's default CSAConnector.\n",
      "Please re-compile NEST using --with-libneurosim=PATH\n"
     ]
    }
   ],
   "source": [
    "import matplotlib\n",
    "matplotlib.rcParams['figure.figsize'] = (6.0, 4.0)\n",
    "matplotlib.rcParams['savefig.dpi'] = 200\n",
    "import matplotlib.pyplot as plt\n",
    "%matplotlib inline\n",
    "from __future__ import division\n",
    "import numpy as np\n",
    "import pyNN.nest as sim"
   ]
  },
  {
   "cell_type": "code",
   "execution_count": 2,
   "metadata": {
    "collapsed": true
   },
   "outputs": [],
   "source": [
    "E_l = -50\n",
    "C_m = 1\n",
    "v = -40\n",
    "rho = -50\n",
    "tau_syn = 5"
   ]
  },
  {
   "cell_type": "markdown",
   "metadata": {},
   "source": [
    "## 4.1 COBA LIF"
   ]
  },
  {
   "cell_type": "code",
   "execution_count": 47,
   "metadata": {
    "collapsed": false
   },
   "outputs": [],
   "source": [
    "neuron_parameters={\n",
    "    'v_rest'     : -50.0,\n",
    "    'cm'         : 1,\n",
    "    'tau_m'      : 1.0,\n",
    "    'tau_syn_E'  : 5.0,\n",
    "    'tau_syn_I'  : 5.0,\n",
    "    'i_offset'   : 0.0,\n",
    "    'v_reset'    : -50.0,\n",
    "    'v_thresh'   : -40.0,\n",
    "    'e_rev_E'    : 0,\n",
    "    'e_rev_I'     : -100,\n",
    "}\n",
    "t_sim = 1000.\n",
    "f = 100\n",
    "sim.setup(timestep=0.1, min_delay=0.1)\n",
    "poisson = sim.Population(1, sim.SpikeSourcePoisson(rate=f, start=0.0, duration=t_sim))\n",
    "pop = sim.Population(1, sim.IF_cond_exp(**neuron_parameters))\n",
    "pop.record_v()\n",
    "pop.record_gsyn()\n",
    "sim.Projection(poisson, pop, connector=sim.OneToOneConnector(),\n",
    "            synapse_type=sim.StaticSynapse(weight=0.1),\n",
    "            receptor_type='excitatory')\n",
    "sim.Projection(poisson, pop, connector=sim.OneToOneConnector(),\n",
    "            synapse_type=sim.StaticSynapse(weight=0.1),\n",
    "            receptor_type='inhibitory')\n",
    "sim.run(t_sim)\n",
    "v = pop.get_data('v')\n",
    "gsyn = pop.get_data('gsyn')\n",
    "sim.end()"
   ]
  },
  {
   "cell_type": "code",
   "execution_count": 48,
   "metadata": {
    "collapsed": false
   },
   "outputs": [
    {
     "data": {
      "text/plain": [
       "(array([  2.00000000e+00,   1.00000000e+00,   1.00000000e+00,\n",
       "          2.00000000e+00,   1.00000000e+00,   3.00000000e+00,\n",
       "          3.00000000e+00,   4.00000000e+00,   7.00000000e+00,\n",
       "          9.97700000e+03]),\n",
       " array([-65. , -63.5, -62. , -60.5, -59. , -57.5, -56. , -54.5, -53. ,\n",
       "        -51.5, -50. ]),\n",
       " <a list of 10 Patch objects>)"
      ]
     },
     "execution_count": 48,
     "metadata": {},
     "output_type": "execute_result"
    },
    {
     "data": {
      "image/png": "[encoded data removed]",
      "text/plain": [
       "<matplotlib.figure.Figure at 0x10c611810>"
      ]
     },
     "metadata": {},
     "output_type": "display_data"
    }
   ],
   "source": [
    "plt.hist(v.segments[0].analogsignalarrays[0])"
   ]
  },
  {
   "cell_type": "code",
   "execution_count": 36,
   "metadata": {
    "collapsed": false
   },
   "outputs": [
    {
     "data": {
      "text/plain": [
       "Segment with \n",
       "name: 'segment000'\n",
       "description: u'Population \"population206\"\\n    Structure   : Line\\n      y: 0.0\\n      x0: 0.0\\n      z: 0.0\\n      dx: 1.0Local cells : 1\\n    Cell type   : IF_cond_exp\\n    ID range    : 7-7\\n    First cell on this node:\\n      ID: 7\\n      '"
      ]
     },
     "execution_count": 36,
     "metadata": {},
     "output_type": "execute_result"
    }
   ],
   "source": [
    "gsyn.segments[0]"
   ]
  },
  {
   "cell_type": "markdown",
   "metadata": {},
   "source": [
    "what's the problem here?"
   ]
  },
  {
   "cell_type": "markdown",
   "metadata": {},
   "source": [
    "## 4.2 f-I curves"
   ]
  },
  {
   "cell_type": "code",
   "execution_count": 3,
   "metadata": {
    "collapsed": true
   },
   "outputs": [],
   "source": [
    "def sim_rate(I, tau_ref, t_sim=1000.):\n",
    "    neuron_parameters={\n",
    "            'v_rest'     : -50.0,\n",
    "            'cm'         : 1,\n",
    "            'tau_m'      : 1.0,\n",
    "            'tau_syn_E'  : 5.0,\n",
    "            'tau_syn_I'  : 5.0,\n",
    "            'i_offset'   : 0.0,\n",
    "            'v_reset'    : -50.0,\n",
    "            'v_thresh'   : -40.0,\n",
    "        }\n",
    "    sim.setup(timestep=min(0.1, tau_ref), min_delay=0.1)\n",
    "    pulse = sim.DCSource(amplitude=I, start=0.0, stop=t_sim)\n",
    "    pop = sim.Population(1, sim.IF_curr_exp(tau_refrac=tau_ref, **neuron_parameters))\n",
    "    pop.record('spikes')\n",
    "    pulse.inject_into(pop)\n",
    "    sim.run(t_sim)\n",
    "    rate = len(pop.get_data('spikes').segments[0].spiketrains[0]) / t_sim * 1000.\n",
    "    sim.end()\n",
    "    return rate"
   ]
  },
  {
   "cell_type": "code",
   "execution_count": 5,
   "metadata": {
    "collapsed": false,
    "scrolled": false
   },
   "outputs": [
    {
     "name": "stdout",
     "output_type": "stream",
     "text": [
      "/Users/knl/.virtualenvs/bic/lib/python2.7/site-packages/ipykernel/__main__.py:2: RuntimeWarning: divide by zero encountered in log\n",
      "/Users/knl/.virtualenvs/bic/lib/python2.7/site-packages/ipykernel/__main__.py:2: RuntimeWarning: invalid value encountered in log\n"
     ]
    },
    {
     "data": {
      "image/png": "[encoded data removed]",
      "text/plain": [
       "<matplotlib.figure.Figure at 0x10b652590>"
      ]
     },
     "metadata": {},
     "output_type": "display_data"
    },
    {
     "data": {
      "image/png": "[encoded data removed]",
      "text/plain": [
       "<matplotlib.figure.Figure at 0x10ba12bd0>"
      ]
     },
     "metadata": {},
     "output_type": "display_data"
    }
   ],
   "source": [
    "I = np.linspace(0,50,50)\n",
    "f = lambda I, tau_ref: (tau_ref + tau_m * np.log((rho-E_l-I/g_l)/(v-E_l-I/g_l)))**-1\n",
    "for tau_ref in [5., 0.01]:\n",
    "    plt.figure()\n",
    "    plt.suptitle(ur'LIF f-I curve for $\\tau_{\\mathrm{ref}}='+str(tau_ref)+'\\,\\mathrm{ms}$')\n",
    "\n",
    "    tau_m = 1\n",
    "    g_l = C_m/tau_m\n",
    "    plt.subplot(1, 2, 1)\n",
    "    plt.title('Model')\n",
    "    rates = f(I,tau_ref)\n",
    "    rates[np.isnan(rates)] = 0\n",
    "    plt.plot(I,rates)\n",
    "    plt.ylabel(ur'firing rate $\\nu \\, [Hz]$')\n",
    "    plt.xlabel(ur'input current $I^{\\mathrm{ext}} \\, [nA]$')   \n",
    "    \n",
    "    rates = np.zeros(len(I))\n",
    "    for (i,current) in enumerate(I):\n",
    "        rates[i] = sim_rate(I=current, tau_ref=tau_ref)\n",
    "    plt.subplot(1, 2, 2)\n",
    "    plt.title('PyNN Simulation')\n",
    "    plt.plot(I,rates)\n",
    "    plt.xlabel(ur'input current $I^{\\mathrm{ext}} \\, [nA]$')"
   ]
  },
  {
   "cell_type": "code",
   "execution_count": null,
   "metadata": {
    "collapsed": true
   },
   "outputs": [],
   "source": []
  }
 ],
 "metadata": {
  "kernelspec": {
   "display_name": "Python 2",
   "language": "python",
   "name": "python2"
  },
  "language_info": {
   "codemirror_mode": {
    "name": "ipython",
    "version": 2
   },
   "file_extension": ".py",
   "mimetype": "text/x-python",
   "name": "python",
   "nbconvert_exporter": "python",
   "pygments_lexer": "ipython2",
   "version": "2.7.10"
  }
 },
 "nbformat": 4,
 "nbformat_minor": 0
}
